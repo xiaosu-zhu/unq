{
 "cells": [
  {
   "cell_type": "code",
   "execution_count": 5,
   "metadata": {},
   "outputs": [
    {
     "name": "stdout",
     "output_type": "stream",
     "text": [
      "env: CUDA_VISIBLE_DEVICES=2\n",
      "env: OMP_NUM_THREADS=32\n",
      "experiment: bigann1m_unq_8b_2020.11.03_02:37:43\n"
     ]
    }
   ],
   "source": [
    "%env CUDA_VISIBLE_DEVICES=2\n",
    "%env OMP_NUM_THREADS=32\n",
    "#^--change this\n",
    "import os, sys, time\n",
    "sys.path.insert(0, '..')\n",
    "import faiss\n",
    "import lib\n",
    "import numpy as np\n",
    "import torch, torch.nn as nn\n",
    "import torch.nn.functional as F\n",
    "from qhoptim.pyt import QHAdam\n",
    "from functools import partial\n",
    "device_ids = list(range(torch.cuda.device_count()))\n",
    "\n",
    "experiment_name = 'bigann1m_unq_8b'\n",
    "experiment_name = '{}_{}.{:0>2d}.{:0>2d}_{:0>2d}:{:0>2d}:{:0>2d}'.format(experiment_name, *time.gmtime()[:6])\n",
    "print(\"experiment:\", experiment_name)"
   ]
  },
  {
   "cell_type": "markdown",
   "metadata": {},
   "source": [
    "### Description\n",
    "\n",
    "This experiment trains UNQ model with 8-byte encoding on BIGANN1M dataset and standard model size.\n",
    "\n",
    "The original experiment was trained on 4 Nnvdia 1080 gtx GPUs. One can set arbitrary number of GPUs by changing the `CUDA_VISIBLE_DEVICES` variable at the top. This experiment may also consume around 8Gb of GPU memory. If one doesn't have this much memory, there are ways to reduce memory usage at the cost of training or inference speed.\n",
    "\n",
    "1. Split data into smaller chunks. One can reduce `batch_size` parameter in `LearnedSimilaritySearch` and call lib.free_memory() after every memory-intensive operation. Use virtual batching: change `trainer.train_on_batch` below to:\n",
    "```(python3.5)\n",
    "model.train(True)\n",
    "trainer.opt.zero_grad()\n",
    "for chunk_start in range(0, len(x_batch), 1000):\n",
    "    chunk = slice(chunk_start, chunk_start + 1000)\n",
    "    metrics_t = model.compute_loss(x_batch[chunk], \n",
    "        sample_uniform(train_base, nearest_ids[chunk]),\n",
    "        sample_uniform(train_base, negative_ids[chunk])\n",
    "    )\n",
    "    metrics_t['loss'].mean().backward()\n",
    "trainer.opt.step()\n",
    "trainer.step += 1\n",
    "...\n",
    "```\n",
    "2. Reduce __batch_size__ in the __iterate_minibatches__ function - this will significantly reduce memory requirements but may reduce the resulting recall. Please also consider reducing `learning_rate_base` and `increasing warmup_steps` in the optimizer.\n",
    "3. If you're low on CPU (we had 56), neighbor lookup will take up a lot of time. Set `rerank_k=float('inf')` - this will cause nearest neighbors to be computed with less memory-hungry implementation of FAISSFlatIndex. Please note that this will cause __overestimation__ of recall. Do not use this for comparison with other models.  \n",
    "\n",
    "By default, this notebook trains a model that reranks 500 most promising candidates during nearest neighbor search. You can increase this number to boost recall across all regions. In order to do so, go to Trainer initialization below and change `rerank_k` in LearnedSimilaritySearch from 500 to a greater value."
   ]
  },
  {
   "cell_type": "code",
   "execution_count": 6,
   "metadata": {},
   "outputs": [],
   "source": [
    "dataset = lib.Dataset('BIGANN1M', normalize=True)\n",
    "\n",
    "model = lib.UNQModel(\n",
    "    input_dim=dataset.vector_dim, hidden_dim=1024, bottleneck_dim=256,\n",
    "    encoder_layers=2, decoder_layers=2, Activation=nn.ReLU,\n",
    "    num_codebooks=8, codebook_size=256, initial_entropy=3.0,\n",
    "    share_codewords=True\n",
    ").cuda()\n",
    "\n",
    "with torch.no_grad():\n",
    "    model(dataset.train_vectors[:1000].cuda())\n",
    "    # ^-- initialize model on first run\n",
    "\n",
    "trainer = lib.Trainer(\n",
    "    model=model, experiment_name=experiment_name, verbose=True,\n",
    "    Loss=lib.TripletLoss, loss_opts=dict(\n",
    "        reconstruction_distance=lib.DISTANCES['euclidian_squared'],\n",
    "        reconstruction_coeff=1.0, triplet_coeff=0.01, triplet_delta=0.1,\n",
    "        cv_coeff=0.1, square_cv=True,\n",
    "    ),\n",
    "    optimizer=lib.OneCycleSchedule(\n",
    "        QHAdam(model.parameters(), nus=(0.8, 0.7), betas=(0.95, 0.998)), \n",
    "        learning_rate_base=1e-3, warmup_steps=10000, decay_rate=0.2),\n",
    "    max_norm=10,\n",
    "    \n",
    "    LearnedSimilaritySearch=partial(lib.UNQSearch, model=model, rerank_k=500, batch_size=1000,\n",
    "                                    reorder_batch_size=250, device_ids=device_ids),\n",
    "    NegativeSimilaritySearch=partial(lib.UNQSearch, model=model, rerank_k=1, batch_size=1000,\n",
    "                                    reorder_batch_size=250, device_ids=device_ids),\n",
    "    SimilaritySearch=lib.FAISSFlatIndex,  # reference nearest vectors will be mined this way\n",
    "    device_ids=device_ids\n",
    "    \n",
    ")"
   ]
  },
  {
   "cell_type": "code",
   "execution_count": 7,
   "metadata": {},
   "outputs": [
    {
     "name": "stdout",
     "output_type": "stream",
     "text": [
      "Computing ground truth neighbors... Done\n"
     ]
    }
   ],
   "source": [
    "import matplotlib.pyplot as plt\n",
    "%matplotlib inline\n",
    "from IPython.display import clear_output\n",
    "from tqdm import tqdm\n",
    "from pandas import DataFrame\n",
    "moving_average = lambda x, **kw: DataFrame({'x':np.asarray(x)}).x.ewm(**kw).mean().values\n",
    "\n",
    "best_recall = 0.0\n",
    "step_history, loss_history, recall_history = [], [], []\n",
    "\n",
    "train_base = dataset.train_vectors.cuda()\n",
    "train_gt = trainer.get_true_nearest_ids(train_base, k=10, exclude_self=True)\n",
    "\n",
    "def fetch_negatives():\n",
    "    return trainer.get_negative_ids(train_base.cpu(), positive_ids=train_gt.cpu(), k=100, skip_k=100).cuda()\n",
    "\n",
    "def sample_uniform(base, ids):\n",
    "    return base[ids[torch.arange(ids.shape[0]), torch.randint(0, ids.shape[1], size=[ids.shape[0]])]]"
   ]
  },
  {
   "cell_type": "code",
   "execution_count": 8,
   "metadata": {
    "scrolled": false
   },
   "outputs": [
    {
     "data": {
      "image/png": "[encoded data removed]",
      "text/plain": [
       "<Figure size 1296x432 with 2 Axes>"
      ]
     },
     "metadata": {
      "needs_background": "light"
     },
     "output_type": "display_data"
    },
    {
     "name": "stdout",
     "output_type": "stream",
     "text": [
      "step = 7 \t mean loss = 22.52019 \t lr = 0.00001 \t best dev recall = 0.01120\n",
      "loss = 21.53414535522461\n",
      "reconstruction_loss = 20.94009780883789\n",
      "triplet_loss = 0.6082554459571838\n",
      "reg = 0.5879656672477722\n",
      "cv_squared = 0.5879656672477722\n",
      "grad_norm = 67.4502944946289\n"
     ]
    },
    {
     "name": "stderr",
     "output_type": "stream",
     "text": [
      " 14%|█▍        | 1/7 [00:00<00:03,  1.52it/s]\n"
     ]
    },
    {
     "ename": "RuntimeError",
     "evalue": "CUDA out of memory. Tried to allocate 128.00 MiB (GPU 0; 10.92 GiB total capacity; 4.28 GiB already allocated; 86.44 MiB free; 4.46 GiB reserved in total by PyTorch)\nException raised from malloc at /opt/conda/conda-bld/pytorch_1595629395347/work/c10/cuda/CUDACachingAllocator.cpp:272 (most recent call first):\nframe #0: c10::Error::Error(c10::SourceLocation, std::string) + 0x4d (0x7fc5c26bb77d in /home/zhuxiaosu/anaconda3/envs/unq/lib/python3.8/site-packages/torch/lib/libc10.so)\nframe #1: <unknown function> + 0x20626 (0x7fc5c2913626 in /home/zhuxiaosu/anaconda3/envs/unq/lib/python3.8/site-packages/torch/lib/libc10_cuda.so)\nframe #2: <unknown function> + 0x214f4 (0x7fc5c29144f4 in /home/zhuxiaosu/anaconda3/envs/unq/lib/python3.8/site-packages/torch/lib/libc10_cuda.so)\nframe #3: <unknown function> + 0x21b81 (0x7fc5c2914b81 in /home/zhuxiaosu/anaconda3/envs/unq/lib/python3.8/site-packages/torch/lib/libc10_cuda.so)\nframe #4: at::native::empty_cuda(c10::ArrayRef<long>, c10::TensorOptions const&, c10::optional<c10::MemoryFormat>) + 0x249 (0x7fc5c5815e39 in /home/zhuxiaosu/anaconda3/envs/unq/lib/python3.8/site-packages/torch/lib/libtorch_cuda.so)\nframe #5: <unknown function> + 0xd15c49 (0x7fc5c3836c49 in /home/zhuxiaosu/anaconda3/envs/unq/lib/python3.8/site-packages/torch/lib/libtorch_cuda.so)\nframe #6: <unknown function> + 0xd2fa77 (0x7fc5c3850a77 in /home/zhuxiaosu/anaconda3/envs/unq/lib/python3.8/site-packages/torch/lib/libtorch_cuda.so)\nframe #7: <unknown function> + 0xe450dd (0x7fc5f9c5b0dd in /home/zhuxiaosu/anaconda3/envs/unq/lib/python3.8/site-packages/torch/lib/libtorch_cpu.so)\nframe #8: <unknown function> + 0xe453f7 (0x7fc5f9c5b3f7 in /home/zhuxiaosu/anaconda3/envs/unq/lib/python3.8/site-packages/torch/lib/libtorch_cpu.so)\nframe #9: at::empty(c10::ArrayRef<long>, c10::TensorOptions const&, c10::optional<c10::MemoryFormat>) + 0xfa (0x7fc5f9d65e7a in /home/zhuxiaosu/anaconda3/envs/unq/lib/python3.8/site-packages/torch/lib/libtorch_cpu.so)\nframe #10: at::native::empty_like(at::Tensor const&, c10::TensorOptions const&, c10::optional<c10::MemoryFormat>) + 0x49e (0x7fc5f99e409e in /home/zhuxiaosu/anaconda3/envs/unq/lib/python3.8/site-packages/torch/lib/libtorch_cpu.so)\nframe #11: <unknown function> + 0xfe3521 (0x7fc5f9df9521 in /home/zhuxiaosu/anaconda3/envs/unq/lib/python3.8/site-packages/torch/lib/libtorch_cpu.so)\nframe #12: <unknown function> + 0x101ecc3 (0x7fc5f9e34cc3 in /home/zhuxiaosu/anaconda3/envs/unq/lib/python3.8/site-packages/torch/lib/libtorch_cpu.so)\nframe #13: at::empty_like(at::Tensor const&, c10::TensorOptions const&, c10::optional<c10::MemoryFormat>) + 0x101 (0x7fc5f9d48f91 in /home/zhuxiaosu/anaconda3/envs/unq/lib/python3.8/site-packages/torch/lib/libtorch_cpu.so)\nframe #14: at::Tensor at::native::(anonymous namespace)::host_softmax_backward<at::native::(anonymous namespace)::SoftMaxBackwardEpilogue, false>(at::Tensor const&, at::Tensor const&, long, bool) + 0x16c (0x7fc5c4f6e6bc in /home/zhuxiaosu/anaconda3/envs/unq/lib/python3.8/site-packages/torch/lib/libtorch_cuda.so)\nframe #15: at::native::softmax_backward_cuda(at::Tensor const&, at::Tensor const&, long, at::Tensor const&) + 0xa1 (0x7fc5c4f3d731 in /home/zhuxiaosu/anaconda3/envs/unq/lib/python3.8/site-packages/torch/lib/libtorch_cuda.so)\nframe #16: <unknown function> + 0xd06200 (0x7fc5c3827200 in /home/zhuxiaosu/anaconda3/envs/unq/lib/python3.8/site-packages/torch/lib/libtorch_cuda.so)\nframe #17: <unknown function> + 0xe6f636 (0x7fc5f9c85636 in /home/zhuxiaosu/anaconda3/envs/unq/lib/python3.8/site-packages/torch/lib/libtorch_cpu.so)\nframe #18: at::_softmax_backward_data(at::Tensor const&, at::Tensor const&, long, at::Tensor const&) + 0x119 (0x7fc5f9d13689 in /home/zhuxiaosu/anaconda3/envs/unq/lib/python3.8/site-packages/torch/lib/libtorch_cpu.so)\nframe #19: <unknown function> + 0x2b9f7bf (0x7fc5fb9b57bf in /home/zhuxiaosu/anaconda3/envs/unq/lib/python3.8/site-packages/torch/lib/libtorch_cpu.so)\nframe #20: <unknown function> + 0xe6f636 (0x7fc5f9c85636 in /home/zhuxiaosu/anaconda3/envs/unq/lib/python3.8/site-packages/torch/lib/libtorch_cpu.so)\nframe #21: at::_softmax_backward_data(at::Tensor const&, at::Tensor const&, long, at::Tensor const&) + 0x119 (0x7fc5f9d13689 in /home/zhuxiaosu/anaconda3/envs/unq/lib/python3.8/site-packages/torch/lib/libtorch_cpu.so)\nframe #22: torch::autograd::generated::SoftmaxBackward::apply(std::vector<at::Tensor, std::allocator<at::Tensor> >&&) + 0x1d7 (0x7fc5fb8b4187 in /home/zhuxiaosu/anaconda3/envs/unq/lib/python3.8/site-packages/torch/lib/libtorch_cpu.so)\nframe #23: <unknown function> + 0x30d1017 (0x7fc5fbee7017 in /home/zhuxiaosu/anaconda3/envs/unq/lib/python3.8/site-packages/torch/lib/libtorch_cpu.so)\nframe #24: torch::autograd::Engine::evaluate_function(std::shared_ptr<torch::autograd::GraphTask>&, torch::autograd::Node*, torch::autograd::InputBuffer&, std::shared_ptr<torch::autograd::ReadyQueue> const&) + 0x1400 (0x7fc5fbee2860 in /home/zhuxiaosu/anaconda3/envs/unq/lib/python3.8/site-packages/torch/lib/libtorch_cpu.so)\nframe #25: torch::autograd::Engine::thread_main(std::shared_ptr<torch::autograd::GraphTask> const&) + 0x451 (0x7fc5fbee3401 in /home/zhuxiaosu/anaconda3/envs/unq/lib/python3.8/site-packages/torch/lib/libtorch_cpu.so)\nframe #26: torch::autograd::Engine::thread_init(int, std::shared_ptr<torch::autograd::ReadyQueue> const&, bool) + 0x89 (0x7fc5fbedb579 in /home/zhuxiaosu/anaconda3/envs/unq/lib/python3.8/site-packages/torch/lib/libtorch_cpu.so)\nframe #27: torch::autograd::python::PythonEngine::thread_init(int, std::shared_ptr<torch::autograd::ReadyQueue> const&, bool) + 0x4a (0x7fc6002051ba in /home/zhuxiaosu/anaconda3/envs/unq/lib/python3.8/site-packages/torch/lib/libtorch_python.so)\nframe #28: <unknown function> + 0xc819d (0x7fc65037619d in /home/zhuxiaosu/anaconda3/envs/unq/lib/python3.8/site-packages/zmq/backend/cython/../../../../.././libstdc++.so.6)\nframe #29: <unknown function> + 0x9609 (0x7fc652ae9609 in /lib/x86_64-linux-gnu/libpthread.so.0)\nframe #30: clone + 0x43 (0x7fc652a10103 in /lib/x86_64-linux-gnu/libc.so.6)\n",
     "output_type": "error",
     "traceback": [
      "\u001b[0;31m---------------------------------------------------------------------------\u001b[0m",
      "\u001b[0;31mRuntimeError\u001b[0m                              Traceback (most recent call last)",
      "\u001b[0;32m<ipython-input-8-237fda65aac5>\u001b[0m in \u001b[0;36m<module>\u001b[0;34m\u001b[0m\n\u001b[1;32m      9\u001b[0m     for x_batch, nearest_ids, negative_ids in lib.iterate_minibatches(\n\u001b[1;32m     10\u001b[0m         train_base, train_gt, train_negatives, batch_size=8192 * 2, callback=tqdm):\n\u001b[0;32m---> 11\u001b[0;31m         metrics_t = trainer.train_on_batch(x_batch,\n\u001b[0m\u001b[1;32m     12\u001b[0m                                            \u001b[0mx_positives\u001b[0m\u001b[0;34m=\u001b[0m\u001b[0msample_uniform\u001b[0m\u001b[0;34m(\u001b[0m\u001b[0mtrain_base\u001b[0m\u001b[0;34m,\u001b[0m \u001b[0mnearest_ids\u001b[0m\u001b[0;34m)\u001b[0m\u001b[0;34m,\u001b[0m\u001b[0;34m\u001b[0m\u001b[0;34m\u001b[0m\u001b[0m\n\u001b[1;32m     13\u001b[0m                                            x_negatives=sample_uniform(train_base, negative_ids))\n",
      "\u001b[0;32m/mnt/hdd3/zhuxiaosu/codes/unq/lib/trainer.py\u001b[0m in \u001b[0;36mtrain_on_batch\u001b[0;34m(self, prefix, *batch, **kwargs)\u001b[0m\n\u001b[1;32m     69\u001b[0m         \u001b[0;32mwith\u001b[0m \u001b[0mtraining_mode\u001b[0m\u001b[0;34m(\u001b[0m\u001b[0mself\u001b[0m\u001b[0;34m.\u001b[0m\u001b[0mmodel\u001b[0m\u001b[0;34m,\u001b[0m \u001b[0mself\u001b[0m\u001b[0;34m.\u001b[0m\u001b[0mloss\u001b[0m\u001b[0;34m,\u001b[0m \u001b[0mis_train\u001b[0m\u001b[0;34m=\u001b[0m\u001b[0;32mTrue\u001b[0m\u001b[0;34m)\u001b[0m\u001b[0;34m:\u001b[0m\u001b[0;34m\u001b[0m\u001b[0;34m\u001b[0m\u001b[0m\n\u001b[1;32m     70\u001b[0m             \u001b[0mmetrics\u001b[0m \u001b[0;34m=\u001b[0m \u001b[0mself\u001b[0m\u001b[0;34m.\u001b[0m\u001b[0mloss\u001b[0m\u001b[0;34m(\u001b[0m\u001b[0;34m*\u001b[0m\u001b[0mbatch\u001b[0m\u001b[0;34m,\u001b[0m \u001b[0;34m**\u001b[0m\u001b[0mkwargs\u001b[0m\u001b[0;34m)\u001b[0m\u001b[0;34m\u001b[0m\u001b[0;34m\u001b[0m\u001b[0m\n\u001b[0;32m---> 71\u001b[0;31m         \u001b[0mmetrics\u001b[0m\u001b[0;34m[\u001b[0m\u001b[0;34m'loss'\u001b[0m\u001b[0;34m]\u001b[0m\u001b[0;34m.\u001b[0m\u001b[0mmean\u001b[0m\u001b[0;34m(\u001b[0m\u001b[0;34m)\u001b[0m\u001b[0;34m.\u001b[0m\u001b[0mbackward\u001b[0m\u001b[0;34m(\u001b[0m\u001b[0;34m)\u001b[0m\u001b[0;34m\u001b[0m\u001b[0;34m\u001b[0m\u001b[0m\n\u001b[0m\u001b[1;32m     72\u001b[0m         \u001b[0;32mif\u001b[0m \u001b[0mself\u001b[0m\u001b[0;34m.\u001b[0m\u001b[0mmax_norm\u001b[0m \u001b[0;32mis\u001b[0m \u001b[0;32mnot\u001b[0m \u001b[0;32mNone\u001b[0m\u001b[0;34m:\u001b[0m\u001b[0;34m\u001b[0m\u001b[0;34m\u001b[0m\u001b[0m\n\u001b[1;32m     73\u001b[0m             \u001b[0mmetrics\u001b[0m\u001b[0;34m[\u001b[0m\u001b[0;34m'grad_norm'\u001b[0m\u001b[0;34m]\u001b[0m \u001b[0;34m=\u001b[0m \u001b[0mtorch\u001b[0m\u001b[0;34m.\u001b[0m\u001b[0mas_tensor\u001b[0m\u001b[0;34m(\u001b[0m\u001b[0mtorch\u001b[0m\u001b[0;34m.\u001b[0m\u001b[0mnn\u001b[0m\u001b[0;34m.\u001b[0m\u001b[0mutils\u001b[0m\u001b[0;34m.\u001b[0m\u001b[0mclip_grad_norm_\u001b[0m\u001b[0;34m(\u001b[0m\u001b[0mself\u001b[0m\u001b[0;34m.\u001b[0m\u001b[0mmodel\u001b[0m\u001b[0;34m.\u001b[0m\u001b[0mparameters\u001b[0m\u001b[0;34m(\u001b[0m\u001b[0;34m)\u001b[0m\u001b[0;34m,\u001b[0m \u001b[0mmax_norm\u001b[0m\u001b[0;34m=\u001b[0m\u001b[0mself\u001b[0m\u001b[0;34m.\u001b[0m\u001b[0mmax_norm\u001b[0m\u001b[0;34m)\u001b[0m\u001b[0;34m)\u001b[0m\u001b[0;34m\u001b[0m\u001b[0;34m\u001b[0m\u001b[0m\n",
      "\u001b[0;32m~/anaconda3/envs/unq/lib/python3.8/site-packages/torch/tensor.py\u001b[0m in \u001b[0;36mbackward\u001b[0;34m(self, gradient, retain_graph, create_graph)\u001b[0m\n\u001b[1;32m    183\u001b[0m                 \u001b[0mproducts\u001b[0m\u001b[0;34m.\u001b[0m \u001b[0mDefaults\u001b[0m \u001b[0mto\u001b[0m\u001b[0;31m \u001b[0m\u001b[0;31m`\u001b[0m\u001b[0;31m`\u001b[0m\u001b[0;32mFalse\u001b[0m\u001b[0;31m`\u001b[0m\u001b[0;31m`\u001b[0m\u001b[0;34m.\u001b[0m\u001b[0;34m\u001b[0m\u001b[0;34m\u001b[0m\u001b[0m\n\u001b[1;32m    184\u001b[0m         \"\"\"\n\u001b[0;32m--> 185\u001b[0;31m         \u001b[0mtorch\u001b[0m\u001b[0;34m.\u001b[0m\u001b[0mautograd\u001b[0m\u001b[0;34m.\u001b[0m\u001b[0mbackward\u001b[0m\u001b[0;34m(\u001b[0m\u001b[0mself\u001b[0m\u001b[0;34m,\u001b[0m \u001b[0mgradient\u001b[0m\u001b[0;34m,\u001b[0m \u001b[0mretain_graph\u001b[0m\u001b[0;34m,\u001b[0m \u001b[0mcreate_graph\u001b[0m\u001b[0;34m)\u001b[0m\u001b[0;34m\u001b[0m\u001b[0;34m\u001b[0m\u001b[0m\n\u001b[0m\u001b[1;32m    186\u001b[0m \u001b[0;34m\u001b[0m\u001b[0m\n\u001b[1;32m    187\u001b[0m     \u001b[0;32mdef\u001b[0m \u001b[0mregister_hook\u001b[0m\u001b[0;34m(\u001b[0m\u001b[0mself\u001b[0m\u001b[0;34m,\u001b[0m \u001b[0mhook\u001b[0m\u001b[0;34m)\u001b[0m\u001b[0;34m:\u001b[0m\u001b[0;34m\u001b[0m\u001b[0;34m\u001b[0m\u001b[0m\n",
      "\u001b[0;32m~/anaconda3/envs/unq/lib/python3.8/site-packages/torch/autograd/__init__.py\u001b[0m in \u001b[0;36mbackward\u001b[0;34m(tensors, grad_tensors, retain_graph, create_graph, grad_variables)\u001b[0m\n\u001b[1;32m    123\u001b[0m         \u001b[0mretain_graph\u001b[0m \u001b[0;34m=\u001b[0m \u001b[0mcreate_graph\u001b[0m\u001b[0;34m\u001b[0m\u001b[0;34m\u001b[0m\u001b[0m\n\u001b[1;32m    124\u001b[0m \u001b[0;34m\u001b[0m\u001b[0m\n\u001b[0;32m--> 125\u001b[0;31m     Variable._execution_engine.run_backward(\n\u001b[0m\u001b[1;32m    126\u001b[0m         \u001b[0mtensors\u001b[0m\u001b[0;34m,\u001b[0m \u001b[0mgrad_tensors\u001b[0m\u001b[0;34m,\u001b[0m \u001b[0mretain_graph\u001b[0m\u001b[0;34m,\u001b[0m \u001b[0mcreate_graph\u001b[0m\u001b[0;34m,\u001b[0m\u001b[0;34m\u001b[0m\u001b[0;34m\u001b[0m\u001b[0m\n\u001b[1;32m    127\u001b[0m         allow_unreachable=True)  # allow_unreachable flag\n",
      "\u001b[0;31mRuntimeError\u001b[0m: CUDA out of memory. Tried to allocate 128.00 MiB (GPU 0; 10.92 GiB total capacity; 4.28 GiB already allocated; 86.44 MiB free; 4.46 GiB reserved in total by PyTorch)\nException raised from malloc at /opt/conda/conda-bld/pytorch_1595629395347/work/c10/cuda/CUDACachingAllocator.cpp:272 (most recent call first):\nframe #0: c10::Error::Error(c10::SourceLocation, std::string) + 0x4d (0x7fc5c26bb77d in /home/zhuxiaosu/anaconda3/envs/unq/lib/python3.8/site-packages/torch/lib/libc10.so)\nframe #1: <unknown function> + 0x20626 (0x7fc5c2913626 in /home/zhuxiaosu/anaconda3/envs/unq/lib/python3.8/site-packages/torch/lib/libc10_cuda.so)\nframe #2: <unknown function> + 0x214f4 (0x7fc5c29144f4 in /home/zhuxiaosu/anaconda3/envs/unq/lib/python3.8/site-packages/torch/lib/libc10_cuda.so)\nframe #3: <unknown function> + 0x21b81 (0x7fc5c2914b81 in /home/zhuxiaosu/anaconda3/envs/unq/lib/python3.8/site-packages/torch/lib/libc10_cuda.so)\nframe #4: at::native::empty_cuda(c10::ArrayRef<long>, c10::TensorOptions const&, c10::optional<c10::MemoryFormat>) + 0x249 (0x7fc5c5815e39 in /home/zhuxiaosu/anaconda3/envs/unq/lib/python3.8/site-packages/torch/lib/libtorch_cuda.so)\nframe #5: <unknown function> + 0xd15c49 (0x7fc5c3836c49 in /home/zhuxiaosu/anaconda3/envs/unq/lib/python3.8/site-packages/torch/lib/libtorch_cuda.so)\nframe #6: <unknown function> + 0xd2fa77 (0x7fc5c3850a77 in /home/zhuxiaosu/anaconda3/envs/unq/lib/python3.8/site-packages/torch/lib/libtorch_cuda.so)\nframe #7: <unknown function> + 0xe450dd (0x7fc5f9c5b0dd in /home/zhuxiaosu/anaconda3/envs/unq/lib/python3.8/site-packages/torch/lib/libtorch_cpu.so)\nframe #8: <unknown function> + 0xe453f7 (0x7fc5f9c5b3f7 in /home/zhuxiaosu/anaconda3/envs/unq/lib/python3.8/site-packages/torch/lib/libtorch_cpu.so)\nframe #9: at::empty(c10::ArrayRef<long>, c10::TensorOptions const&, c10::optional<c10::MemoryFormat>) + 0xfa (0x7fc5f9d65e7a in /home/zhuxiaosu/anaconda3/envs/unq/lib/python3.8/site-packages/torch/lib/libtorch_cpu.so)\nframe #10: at::native::empty_like(at::Tensor const&, c10::TensorOptions const&, c10::optional<c10::MemoryFormat>) + 0x49e (0x7fc5f99e409e in /home/zhuxiaosu/anaconda3/envs/unq/lib/python3.8/site-packages/torch/lib/libtorch_cpu.so)\nframe #11: <unknown function> + 0xfe3521 (0x7fc5f9df9521 in /home/zhuxiaosu/anaconda3/envs/unq/lib/python3.8/site-packages/torch/lib/libtorch_cpu.so)\nframe #12: <unknown function> + 0x101ecc3 (0x7fc5f9e34cc3 in /home/zhuxiaosu/anaconda3/envs/unq/lib/python3.8/site-packages/torch/lib/libtorch_cpu.so)\nframe #13: at::empty_like(at::Tensor const&, c10::TensorOptions const&, c10::optional<c10::MemoryFormat>) + 0x101 (0x7fc5f9d48f91 in /home/zhuxiaosu/anaconda3/envs/unq/lib/python3.8/site-packages/torch/lib/libtorch_cpu.so)\nframe #14: at::Tensor at::native::(anonymous namespace)::host_softmax_backward<at::native::(anonymous namespace)::SoftMaxBackwardEpilogue, false>(at::Tensor const&, at::Tensor const&, long, bool) + 0x16c (0x7fc5c4f6e6bc in /home/zhuxiaosu/anaconda3/envs/unq/lib/python3.8/site-packages/torch/lib/libtorch_cuda.so)\nframe #15: at::native::softmax_backward_cuda(at::Tensor const&, at::Tensor const&, long, at::Tensor const&) + 0xa1 (0x7fc5c4f3d731 in /home/zhuxiaosu/anaconda3/envs/unq/lib/python3.8/site-packages/torch/lib/libtorch_cuda.so)\nframe #16: <unknown function> + 0xd06200 (0x7fc5c3827200 in /home/zhuxiaosu/anaconda3/envs/unq/lib/python3.8/site-packages/torch/lib/libtorch_cuda.so)\nframe #17: <unknown function> + 0xe6f636 (0x7fc5f9c85636 in /home/zhuxiaosu/anaconda3/envs/unq/lib/python3.8/site-packages/torch/lib/libtorch_cpu.so)\nframe #18: at::_softmax_backward_data(at::Tensor const&, at::Tensor const&, long, at::Tensor const&) + 0x119 (0x7fc5f9d13689 in /home/zhuxiaosu/anaconda3/envs/unq/lib/python3.8/site-packages/torch/lib/libtorch_cpu.so)\nframe #19: <unknown function> + 0x2b9f7bf (0x7fc5fb9b57bf in /home/zhuxiaosu/anaconda3/envs/unq/lib/python3.8/site-packages/torch/lib/libtorch_cpu.so)\nframe #20: <unknown function> + 0xe6f636 (0x7fc5f9c85636 in /home/zhuxiaosu/anaconda3/envs/unq/lib/python3.8/site-packages/torch/lib/libtorch_cpu.so)\nframe #21: at::_softmax_backward_data(at::Tensor const&, at::Tensor const&, long, at::Tensor const&) + 0x119 (0x7fc5f9d13689 in /home/zhuxiaosu/anaconda3/envs/unq/lib/python3.8/site-packages/torch/lib/libtorch_cpu.so)\nframe #22: torch::autograd::generated::SoftmaxBackward::apply(std::vector<at::Tensor, std::allocator<at::Tensor> >&&) + 0x1d7 (0x7fc5fb8b4187 in /home/zhuxiaosu/anaconda3/envs/unq/lib/python3.8/site-packages/torch/lib/libtorch_cpu.so)\nframe #23: <unknown function> + 0x30d1017 (0x7fc5fbee7017 in /home/zhuxiaosu/anaconda3/envs/unq/lib/python3.8/site-packages/torch/lib/libtorch_cpu.so)\nframe #24: torch::autograd::Engine::evaluate_function(std::shared_ptr<torch::autograd::GraphTask>&, torch::autograd::Node*, torch::autograd::InputBuffer&, std::shared_ptr<torch::autograd::ReadyQueue> const&) + 0x1400 (0x7fc5fbee2860 in /home/zhuxiaosu/anaconda3/envs/unq/lib/python3.8/site-packages/torch/lib/libtorch_cpu.so)\nframe #25: torch::autograd::Engine::thread_main(std::shared_ptr<torch::autograd::GraphTask> const&) + 0x451 (0x7fc5fbee3401 in /home/zhuxiaosu/anaconda3/envs/unq/lib/python3.8/site-packages/torch/lib/libtorch_cpu.so)\nframe #26: torch::autograd::Engine::thread_init(int, std::shared_ptr<torch::autograd::ReadyQueue> const&, bool) + 0x89 (0x7fc5fbedb579 in /home/zhuxiaosu/anaconda3/envs/unq/lib/python3.8/site-packages/torch/lib/libtorch_cpu.so)\nframe #27: torch::autograd::python::PythonEngine::thread_init(int, std::shared_ptr<torch::autograd::ReadyQueue> const&, bool) + 0x4a (0x7fc6002051ba in /home/zhuxiaosu/anaconda3/envs/unq/lib/python3.8/site-packages/torch/lib/libtorch_python.so)\nframe #28: <unknown function> + 0xc819d (0x7fc65037619d in /home/zhuxiaosu/anaconda3/envs/unq/lib/python3.8/site-packages/zmq/backend/cython/../../../../.././libstdc++.so.6)\nframe #29: <unknown function> + 0x9609 (0x7fc652ae9609 in /lib/x86_64-linux-gnu/libpthread.so.0)\nframe #30: clone + 0x43 (0x7fc652a10103 in /lib/x86_64-linux-gnu/libc.so.6)\n"
     ]
    }
   ],
   "source": [
    "for epoch_i in range(10000):\n",
    "    trainer.loss.module.opts['cv_coeff'] = max(0.05, 1. - trainer.step / 100_000)\n",
    "    trainer.drop_large_grads = trainer.step >= 1000\n",
    "    \n",
    "    lib.free_memory()\n",
    "    if epoch_i % 8 == 0: # every ~250 steps\n",
    "        train_negatives = fetch_negatives()\n",
    "    \n",
    "    for x_batch, nearest_ids, negative_ids in lib.iterate_minibatches(\n",
    "        train_base, train_gt, train_negatives, batch_size=8192 * 2, callback=tqdm):\n",
    "        metrics_t = trainer.train_on_batch(x_batch,\n",
    "                                           x_positives=sample_uniform(train_base, nearest_ids),\n",
    "                                           x_negatives=sample_uniform(train_base, negative_ids))\n",
    "        loss_history.append(metrics_t['loss'].mean().item())\n",
    "        step_history.append(trainer.step)\n",
    "    \n",
    "    if epoch_i % 10 == 0: # every ~500 steps\n",
    "        metrics_t = {key: lib.check_numpy(value) for key, value in metrics_t.items()}\n",
    "        lib.free_memory()\n",
    "        \n",
    "        recall_t = trainer.evaluate_recall(dataset.test_vectors.cuda(), dataset.query_vectors.cuda(), dataset.gt_vectors, k=1)\n",
    "        # ^-- this line evaluates recall@1. Change k to 10, 100, etc. to get recall for different top sizes\n",
    "        \n",
    "        recall_history.append(recall_t)\n",
    "        if recall_t > best_recall:\n",
    "            best_recall = recall_t\n",
    "            trainer.save_checkpoint('best')\n",
    "\n",
    "        clear_output(True)\n",
    "        plt.figure(figsize=[18, 6])\n",
    "        plt.subplot(1, 3, 1); plt.title('train loss'); plt.grid()\n",
    "        plt.scatter(step_history, loss_history, alpha=0.1)\n",
    "        plt.plot(moving_average(loss_history, span=100), c='orange')\n",
    "        plt.subplot(1, 3, 2); plt.title('dev recall@1'); plt.grid()\n",
    "        plt.plot(recall_history)\n",
    "        plt.show()\n",
    "\n",
    "        print(\"step = %i \\t mean loss = %.5f \\t lr = %.5f \\t best dev recall = %.5f\" % (\n",
    "            trainer.step, np.mean(loss_history[-100:]),\n",
    "            lib.get_learning_rate(trainer.opt), best_recall))\n",
    "        for k, v in metrics_t.items():\n",
    "            print('{} = {}'.format(k, np.mean(lib.check_numpy(v))))\n",
    "\n",
    "# see you in tensorboard..."
   ]
  },
  {
   "cell_type": "code",
   "execution_count": null,
   "metadata": {},
   "outputs": [],
   "source": []
  }
 ],
 "metadata": {
  "kernelspec": {
   "display_name": "Python 3",
   "language": "python",
   "name": "python3"
  },
  "language_info": {
   "codemirror_mode": {
    "name": "ipython",
    "version": 3
   },
   "file_extension": ".py",
   "mimetype": "text/x-python",
   "name": "python",
   "nbconvert_exporter": "python",
   "pygments_lexer": "ipython3",
   "version": "3.8.5"
  }
 },
 "nbformat": 4,
 "nbformat_minor": 2
}
